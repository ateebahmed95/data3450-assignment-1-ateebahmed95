{
 "cells": [
  {
   "cell_type": "markdown",
   "id": "7b343be4",
   "metadata": {},
   "source": [
    "# Assignment #1 - Basic Data Exploration, Visualization, and Analysis\n",
    "\n",
    "## Assignment Overview\n",
    "\n",
    "In this assignment you'll load some data into a python notebook, and use some basic functions to do some basic analysis. Each section asks you to either calculate some answers or explore some information found in the data. When generating your answers, try to think about a few factors that can make your code better:\n",
    "<ul>\n",
    "<li> Present the answers clearly. Use the markdown cells, code comments, and formatting to help make your answers readable. One of the features of notebooks is that they allow us to combine code and commentary, and we need to ensure both are readable. Refer to the guide in the guides folder of the exercises workbook for an explaination and examples of different formatting. \n",
    "<li> Make your code clear. It is easy to make sense of small pieces of code, for short periods of time, so if your code makes little sense here, it won't really hurt your ability to find the answers. If you need to come back to it later, or others need to edit it, having code that doesn't make sense is a big issue. Use things like clearly named variables, comments, and spacing to make things readable. Even in this course, if you are looking back to something from 2 months ago for the project, it is far easier to understand code that is cleaned up a little. \n",
    "<li> Structure the code well. If there is some kind of repetitive task, it should likely be moved into a function. If there is something that happens several times, it should be in a loop. Having well structured code makes it easy to reuse stuff later, understand how things work, debug errors, and share code with others. This is something to keep in the back of your minds, right now you may not have much experience to lean on to judge how things should be, as you read, adjust, and write code it will become more clear. \n",
    "</ul>\n",
    "\n",
    "## Grading\n",
    "\n",
    "This assignment will be graded in two portions:\n",
    "<ul>\n",
    "<li> 50% - Correctness and functionality. Parts of the assignment (the functions you are asked to write) will be graded on whether they work correctly and generate correct answers. </li>\n",
    "<li> 50% -Analysis and presentation. Parts of the assignment (the markdown cells you are asked to fill in) will be graded on whether they present the answers clearly, and whether the analysis is correct. </li>\n",
    "</ul>"
   ]
  },
  {
   "cell_type": "markdown",
   "id": "abe560b3",
   "metadata": {},
   "source": [
    "## Load Data"
   ]
  },
  {
   "cell_type": "code",
   "execution_count": 57,
   "id": "dddd213b",
   "metadata": {},
   "outputs": [
    {
     "data": {
      "text/html": [
       "<div>\n",
       "<style scoped>\n",
       "    .dataframe tbody tr th:only-of-type {\n",
       "        vertical-align: middle;\n",
       "    }\n",
       "\n",
       "    .dataframe tbody tr th {\n",
       "        vertical-align: top;\n",
       "    }\n",
       "\n",
       "    .dataframe thead th {\n",
       "        text-align: right;\n",
       "    }\n",
       "</style>\n",
       "<table border=\"1\" class=\"dataframe\">\n",
       "  <thead>\n",
       "    <tr style=\"text-align: right;\">\n",
       "      <th></th>\n",
       "      <th>Age</th>\n",
       "      <th>Eduacation</th>\n",
       "      <th>Race</th>\n",
       "      <th>Hisp</th>\n",
       "      <th>MaritalStatus</th>\n",
       "      <th>Nodeg</th>\n",
       "      <th>Earnings_1974</th>\n",
       "      <th>Earnings_1975</th>\n",
       "      <th>Earnings_1978</th>\n",
       "    </tr>\n",
       "  </thead>\n",
       "  <tbody>\n",
       "    <tr>\n",
       "      <th>0</th>\n",
       "      <td>45</td>\n",
       "      <td>LessThanHighSchool</td>\n",
       "      <td>NotBlack</td>\n",
       "      <td>NotHispanic</td>\n",
       "      <td>Married</td>\n",
       "      <td>1</td>\n",
       "      <td>21516.670</td>\n",
       "      <td>25243.550</td>\n",
       "      <td>25564.670</td>\n",
       "    </tr>\n",
       "    <tr>\n",
       "      <th>1</th>\n",
       "      <td>21</td>\n",
       "      <td>Intermediate</td>\n",
       "      <td>NotBlack</td>\n",
       "      <td>NotHispanic</td>\n",
       "      <td>NotMarried</td>\n",
       "      <td>0</td>\n",
       "      <td>3175.971</td>\n",
       "      <td>5852.565</td>\n",
       "      <td>13496.080</td>\n",
       "    </tr>\n",
       "    <tr>\n",
       "      <th>2</th>\n",
       "      <td>38</td>\n",
       "      <td>HighSchool</td>\n",
       "      <td>NotBlack</td>\n",
       "      <td>NotHispanic</td>\n",
       "      <td>Married</td>\n",
       "      <td>0</td>\n",
       "      <td>23039.020</td>\n",
       "      <td>25130.760</td>\n",
       "      <td>25564.670</td>\n",
       "    </tr>\n",
       "    <tr>\n",
       "      <th>3</th>\n",
       "      <td>48</td>\n",
       "      <td>LessThanHighSchool</td>\n",
       "      <td>NotBlack</td>\n",
       "      <td>NotHispanic</td>\n",
       "      <td>Married</td>\n",
       "      <td>1</td>\n",
       "      <td>24994.370</td>\n",
       "      <td>25243.550</td>\n",
       "      <td>25564.670</td>\n",
       "    </tr>\n",
       "    <tr>\n",
       "      <th>4</th>\n",
       "      <td>18</td>\n",
       "      <td>LessThanHighSchool</td>\n",
       "      <td>NotBlack</td>\n",
       "      <td>NotHispanic</td>\n",
       "      <td>Married</td>\n",
       "      <td>1</td>\n",
       "      <td>1669.295</td>\n",
       "      <td>10727.610</td>\n",
       "      <td>9860.869</td>\n",
       "    </tr>\n",
       "  </tbody>\n",
       "</table>\n",
       "</div>"
      ],
      "text/plain": [
       "   Age          Eduacation      Race         Hisp MaritalStatus  Nodeg  \\\n",
       "0   45  LessThanHighSchool  NotBlack  NotHispanic       Married      1   \n",
       "1   21        Intermediate  NotBlack  NotHispanic    NotMarried      0   \n",
       "2   38          HighSchool  NotBlack  NotHispanic       Married      0   \n",
       "3   48  LessThanHighSchool  NotBlack  NotHispanic       Married      1   \n",
       "4   18  LessThanHighSchool  NotBlack  NotHispanic       Married      1   \n",
       "\n",
       "   Earnings_1974  Earnings_1975  Earnings_1978  \n",
       "0      21516.670      25243.550      25564.670  \n",
       "1       3175.971       5852.565      13496.080  \n",
       "2      23039.020      25130.760      25564.670  \n",
       "3      24994.370      25243.550      25564.670  \n",
       "4       1669.295      10727.610       9860.869  "
      ]
     },
     "execution_count": 57,
     "metadata": {},
     "output_type": "execute_result"
    }
   ],
   "source": [
    "import pandas as pd\n",
    "import numpy as np\n",
    "import seaborn as sns\n",
    "import asn1_function_sheet as afs\n",
    "\n",
    "try:\n",
    "    df = pd.read_csv(\"LabourTrainingEvaluationData.csv\")\n",
    "except FileNotFoundError:\n",
    "    df = pd.read_csv(\"../data/LabourTrainingEvaluationData.csv\")\n",
    "df[\"Nodeg\"].astype('category', copy=False)\n",
    "df.head()"
   ]
  },
  {
   "cell_type": "code",
   "execution_count": 58,
   "id": "7c54e427",
   "metadata": {},
   "outputs": [
    {
     "data": {
      "text/html": [
       "<div>\n",
       "<style scoped>\n",
       "    .dataframe tbody tr th:only-of-type {\n",
       "        vertical-align: middle;\n",
       "    }\n",
       "\n",
       "    .dataframe tbody tr th {\n",
       "        vertical-align: top;\n",
       "    }\n",
       "\n",
       "    .dataframe thead th {\n",
       "        text-align: right;\n",
       "    }\n",
       "</style>\n",
       "<table border=\"1\" class=\"dataframe\">\n",
       "  <thead>\n",
       "    <tr style=\"text-align: right;\">\n",
       "      <th></th>\n",
       "      <th>Age</th>\n",
       "      <th>Nodeg</th>\n",
       "      <th>Earnings_1974</th>\n",
       "      <th>Earnings_1975</th>\n",
       "      <th>Earnings_1978</th>\n",
       "    </tr>\n",
       "  </thead>\n",
       "  <tbody>\n",
       "    <tr>\n",
       "      <th>count</th>\n",
       "      <td>15992.000000</td>\n",
       "      <td>15992.000000</td>\n",
       "      <td>15992.000000</td>\n",
       "      <td>15992.000000</td>\n",
       "      <td>15992.000000</td>\n",
       "    </tr>\n",
       "    <tr>\n",
       "      <th>mean</th>\n",
       "      <td>33.225238</td>\n",
       "      <td>0.295835</td>\n",
       "      <td>14016.800304</td>\n",
       "      <td>13650.803376</td>\n",
       "      <td>14846.659673</td>\n",
       "    </tr>\n",
       "    <tr>\n",
       "      <th>std</th>\n",
       "      <td>11.045216</td>\n",
       "      <td>0.456432</td>\n",
       "      <td>9569.795893</td>\n",
       "      <td>9270.403225</td>\n",
       "      <td>9647.391524</td>\n",
       "    </tr>\n",
       "    <tr>\n",
       "      <th>min</th>\n",
       "      <td>16.000000</td>\n",
       "      <td>0.000000</td>\n",
       "      <td>0.000000</td>\n",
       "      <td>0.000000</td>\n",
       "      <td>0.000000</td>\n",
       "    </tr>\n",
       "    <tr>\n",
       "      <th>25%</th>\n",
       "      <td>24.000000</td>\n",
       "      <td>0.000000</td>\n",
       "      <td>4403.452250</td>\n",
       "      <td>4398.823000</td>\n",
       "      <td>5669.298000</td>\n",
       "    </tr>\n",
       "    <tr>\n",
       "      <th>50%</th>\n",
       "      <td>31.000000</td>\n",
       "      <td>0.000000</td>\n",
       "      <td>15123.580000</td>\n",
       "      <td>14557.110000</td>\n",
       "      <td>16421.975000</td>\n",
       "    </tr>\n",
       "    <tr>\n",
       "      <th>75%</th>\n",
       "      <td>42.000000</td>\n",
       "      <td>1.000000</td>\n",
       "      <td>23584.180000</td>\n",
       "      <td>22923.737500</td>\n",
       "      <td>25564.670000</td>\n",
       "    </tr>\n",
       "    <tr>\n",
       "      <th>max</th>\n",
       "      <td>55.000000</td>\n",
       "      <td>1.000000</td>\n",
       "      <td>25862.320000</td>\n",
       "      <td>25243.550000</td>\n",
       "      <td>25564.670000</td>\n",
       "    </tr>\n",
       "  </tbody>\n",
       "</table>\n",
       "</div>"
      ],
      "text/plain": [
       "                Age         Nodeg  Earnings_1974  Earnings_1975  Earnings_1978\n",
       "count  15992.000000  15992.000000   15992.000000   15992.000000   15992.000000\n",
       "mean      33.225238      0.295835   14016.800304   13650.803376   14846.659673\n",
       "std       11.045216      0.456432    9569.795893    9270.403225    9647.391524\n",
       "min       16.000000      0.000000       0.000000       0.000000       0.000000\n",
       "25%       24.000000      0.000000    4403.452250    4398.823000    5669.298000\n",
       "50%       31.000000      0.000000   15123.580000   14557.110000   16421.975000\n",
       "75%       42.000000      1.000000   23584.180000   22923.737500   25564.670000\n",
       "max       55.000000      1.000000   25862.320000   25243.550000   25564.670000"
      ]
     },
     "execution_count": 58,
     "metadata": {},
     "output_type": "execute_result"
    }
   ],
   "source": [
    "df.describe()"
   ]
  },
  {
   "cell_type": "markdown",
   "id": "9a8cc380",
   "metadata": {},
   "source": [
    "### **Part 1**\n",
    "\n",
    "**Problem 1**: Create a function called age_splitter that takes a dataframe, a column name, and an age threshold as input. The function should return two dataframes, one with all the rows where the age in the specified column is below the threshold, and one with all the rows where the age in the specified column is above or equal to the threshold."
   ]
  },
  {
   "cell_type": "code",
   "execution_count": 59,
   "id": "24017df0",
   "metadata": {},
   "outputs": [
    {
     "name": "stdout",
     "output_type": "stream",
     "text": [
      "Below threshold:\n",
      "       Age          Eduacation      Race         Hisp MaritalStatus  Nodeg  \\\n",
      "1       21        Intermediate  NotBlack  NotHispanic    NotMarried      0   \n",
      "4       18  LessThanHighSchool  NotBlack  NotHispanic       Married      1   \n",
      "5       22  LessThanHighSchool  NotBlack  NotHispanic       Married      1   \n",
      "7       18  LessThanHighSchool  NotBlack  NotHispanic    NotMarried      1   \n",
      "11      16  LessThanHighSchool  NotBlack  NotHispanic    NotMarried      1   \n",
      "...    ...                 ...       ...          ...           ...    ...   \n",
      "15981   22        Intermediate  NotBlack     hispanic    NotMarried      0   \n",
      "15982   27        Intermediate  NotBlack  NotHispanic       Married      0   \n",
      "15985   27          HighSchool  NotBlack  NotHispanic       Married      0   \n",
      "15987   22          HighSchool     black  NotHispanic    NotMarried      0   \n",
      "15988   20          HighSchool     black  NotHispanic       Married      0   \n",
      "\n",
      "       Earnings_1974  Earnings_1975  Earnings_1978  \n",
      "1           3175.971       5852.565      13496.080  \n",
      "4           1669.295      10727.610       9860.869  \n",
      "5          16365.760      18449.270      25564.670  \n",
      "7           1144.212       3620.032      15739.270  \n",
      "11          1026.656       1224.581       6847.785  \n",
      "...              ...            ...            ...  \n",
      "15981       7684.244       5281.452       6014.347  \n",
      "15982      25507.690      25243.550      25564.670  \n",
      "15985          0.000      25243.550       4223.343  \n",
      "15987       3975.352       6801.435       2757.438  \n",
      "15988       1445.939      11832.240       6895.072  \n",
      "\n",
      "[7152 rows x 9 columns]\n",
      "\n",
      "Above or equal threshold:\n",
      "       Age          Eduacation      Race         Hisp MaritalStatus  Nodeg  \\\n",
      "0       45  LessThanHighSchool  NotBlack  NotHispanic       Married      1   \n",
      "2       38          HighSchool  NotBlack  NotHispanic       Married      0   \n",
      "3       48  LessThanHighSchool  NotBlack  NotHispanic       Married      1   \n",
      "6       48  LessThanHighSchool  NotBlack  NotHispanic       Married      1   \n",
      "8       48  LessThanHighSchool  NotBlack  NotHispanic       Married      1   \n",
      "...    ...                 ...       ...          ...           ...    ...   \n",
      "15984   48  LessThanHighSchool  NotBlack  NotHispanic       Married      1   \n",
      "15986   35          HighSchool  NotBlack  NotHispanic       Married      0   \n",
      "15989   37          HighSchool  NotBlack  NotHispanic    NotMarried      0   \n",
      "15990   47  LessThanHighSchool  NotBlack  NotHispanic       Married      1   \n",
      "15991   40  LessThanHighSchool  NotBlack  NotHispanic    NotMarried      1   \n",
      "\n",
      "       Earnings_1974  Earnings_1975  Earnings_1978  \n",
      "0          21516.670      25243.550      25564.670  \n",
      "2          23039.020      25130.760      25564.670  \n",
      "3          24994.370      25243.550      25564.670  \n",
      "6          16804.630      16354.600      18059.300  \n",
      "8          25862.320      25243.550      25564.670  \n",
      "...              ...            ...            ...  \n",
      "15984      25862.320      25243.550      25564.670  \n",
      "15986          0.000          0.000          0.000  \n",
      "15989       1733.951       1559.371       4221.865  \n",
      "15990      16914.350      11384.660      13671.930  \n",
      "15991      13628.660      13144.550       7979.724  \n",
      "\n",
      "[8840 rows x 9 columns]\n"
     ]
    }
   ],
   "source": [
    "# 1 - Demo of function\n",
    "df_below, df_above_equal = afs.age_splitter(df, \"Age\", 30)\n",
    "print(\"Below threshold:\")\n",
    "print(df_below)\n",
    "\n",
    "print(\"\\nAbove or equal threshold:\")\n",
    "print(df_above_equal)"
   ]
  },
  {
   "cell_type": "markdown",
   "id": "ed49a137",
   "metadata": {},
   "source": [
    "**Problem 2**: Use this function to calculate the percentage of people in the dataset that are below 30 years old."
   ]
  },
  {
   "cell_type": "code",
   "execution_count": 60,
   "id": "8fc1a558",
   "metadata": {},
   "outputs": [
    {
     "name": "stdout",
     "output_type": "stream",
     "text": [
      "44.7223611805903\n"
     ]
    }
   ],
   "source": [
    "# 2 Percentage Under 30\n",
    "percentage_below_30 = (len(df_below) / len(df)) * 100\n",
    "print(percentage_below_30)"
   ]
  },
  {
   "cell_type": "markdown",
   "id": "65a3df89",
   "metadata": {},
   "source": [
    "**Problem 3**: Use this function to compare the 1978 earnings of the two groups to see which is larger - show this arithmatically as well as visually. "
   ]
  },
  {
   "cell_type": "code",
   "execution_count": 61,
   "id": "9229e2a1",
   "metadata": {},
   "outputs": [
    {
     "name": "stdout",
     "output_type": "stream",
     "text": [
      "Average 1978 Earnings (Below 30): 13032.687089525025\n",
      "Average 1978 Earnings (30 and above): 16314.253781091627\n",
      "People 30 and above earned more on average in 1978.\n"
     ]
    }
   ],
   "source": [
    "# 3 - 1978 Earnings Comparison\n",
    "\n",
    "# Arithmetic comparison (mean earnings in 1978)\n",
    "mean_below = df_below[\"Earnings_1978\"].mean()\n",
    "mean_above_equal = df_above_equal[\"Earnings_1978\"].mean()\n",
    "\n",
    "print(\"Average 1978 Earnings (Below 30):\", mean_below)\n",
    "print(\"Average 1978 Earnings (30 and above):\", mean_above_equal)\n",
    "\n",
    "if mean_below > mean_above_equal:\n",
    "    print(\"People below 30 earned more on average in 1978.\")\n",
    "else:\n",
    "    print(\"People 30 and above earned more on average in 1978.\")\n"
   ]
  },
  {
   "cell_type": "code",
   "execution_count": 62,
   "id": "cf819e64",
   "metadata": {},
   "outputs": [
    {
     "data": {
      "text/plain": [
       "<Axes: xlabel='Group', ylabel='Earnings_1978'>"
      ]
     },
     "execution_count": 62,
     "metadata": {},
     "output_type": "execute_result"
    },
    {
     "data": {
      "image/png": "[encoded data removed]",
      "text/plain": [
       "<Figure size 640x480 with 1 Axes>"
      ]
     },
     "metadata": {},
     "output_type": "display_data"
    }
   ],
   "source": [
    "# Visually comparison (mean earnings in 1978)\n",
    "\n",
    "# Combine and add group labels\n",
    "df_combined = (\n",
    "    pd.concat([df[df[\"Age\"] < 30], df[df[\"Age\"] >= 30]])\n",
    "      .assign(Group=lambda x: [\"Below 30\" if age < 30 else \"30 and Above\" for age in x[\"Age\"]])\n",
    ")\n",
    "\n",
    "# Seaborn boxplot\n",
    "sns.boxplot(\n",
    "    x=\"Group\",\n",
    "    y=\"Earnings_1978\",\n",
    "    data=df_combined,\n",
    "    hue=\"Group\",\n",
    "    palette={\"Below 30\": \"blue\", \"30 and Above\": \"orange\"},\n",
    "    legend=False\n",
    ")"
   ]
  },
  {
   "cell_type": "markdown",
   "id": "ae8751ed",
   "metadata": {},
   "source": [
    "### **Part 2**\n",
    "\n",
    "**Problem 1**: Create a function in the .py file called cohortCompare that takes two arguments - a dataframe and a list of categorical column names. The function should return a dictonary of the key statistics of each numerical columns and counts for categorical columns.\n",
    "    <ul>\n",
    "    <li> Mean, Median, Standard Deviation, Min, Max for numerical columns </li>\n",
    "    <li> Counts for categorical columns </li>\n",
    "    <li><b>Note:</b> Please use the CohortMetric object to store and manage the statistics for each cohort.</li>\n",
    "    </ul>\n",
    "Print the dictionary returned in a nice-ish way. (Don't go crazy, basic formatting)\n",
    "\n"
   ]
  },
  {
   "cell_type": "code",
   "execution_count": 63,
   "id": "a7663d64",
   "metadata": {},
   "outputs": [
    {
     "name": "stdout",
     "output_type": "stream",
     "text": [
      "\n",
      "Cohort: Race=NotBlack\n",
      "Numeric stats:\n",
      "  Age: {'mean': np.float64(33.269775917926566), 'median': 31.0, 'std': 11.049670648553896, 'min': 16, 'max': 55}\n",
      "  Nodeg: {'mean': np.float64(0.28489470842332615), 'median': 0.0, 'std': 0.4513795134025145, 'min': 0, 'max': 1}\n",
      "  Earnings_1974: {'mean': np.float64(14222.39578350837), 'median': 15526.21, 'std': 9594.563625188905, 'min': 0.0, 'max': 25862.32}\n",
      "  Earnings_1975: {'mean': np.float64(13865.885217210647), 'median': 14918.759999999998, 'std': 9283.981034995679, 'min': 0.0, 'max': 25243.55}\n",
      "  Earnings_1978: {'mean': np.float64(15072.078991513228), 'median': 16894.11, 'std': 9635.184975761133, 'min': 0.0, 'max': 25564.67}\n",
      "Categorical counts:\n",
      "  Eduacation: {'HighSchool': 5825, 'LessThanHighSchool': 4221, 'Intermediate': 2547, 'graduate': 1315, 'PostGraduate': 908}\n",
      "  Race: {'NotBlack': 14816}\n",
      "  Hisp: {'NotHispanic': 13664, 'hispanic': 1152}\n",
      "  MaritalStatus: {'Married': 10653, 'NotMarried': 4163}\n",
      "\n",
      "Cohort: Race=black\n",
      "Numeric stats:\n",
      "  Age: {'mean': np.float64(32.6641156462585), 'median': 31.0, 'std': 10.978133999495084, 'min': 16, 'max': 55}\n",
      "  Nodeg: {'mean': np.float64(0.4336734693877551), 'median': 0.0, 'std': 0.4957921069228684, 'min': 0, 'max': 1}\n",
      "  Earnings_1974: {'mean': np.float64(11426.57698654762), 'median': 11079.65, 'std': 8855.85961780662, 'min': 0.0, 'max': 25862.32}\n",
      "  Earnings_1975: {'mean': np.float64(10941.064806088436), 'median': 10845.775000000001, 'std': 8654.758068390063, 'min': 0.0, 'max': 25243.55}\n",
      "  Earnings_1978: {'mean': np.float64(12006.68295142262), 'median': 12115.880000000001, 'std': 9349.11883563883, 'min': 0.0, 'max': 25564.67}\n",
      "Categorical counts:\n",
      "  Eduacation: {'LessThanHighSchool': 510, 'HighSchool': 427, 'Intermediate': 161, 'graduate': 52, 'PostGraduate': 26}\n",
      "  Race: {'black': 1176}\n",
      "  Hisp: {'NotHispanic': 1176}\n",
      "  MaritalStatus: {'Married': 729, 'NotMarried': 447}\n",
      "\n",
      "Cohort: Hisp=NotHispanic\n",
      "Numeric stats:\n",
      "  Age: {'mean': np.float64(33.23766846361186), 'median': 31.0, 'std': 11.053444420423743, 'min': 16, 'max': 55}\n",
      "  Nodeg: {'mean': np.float64(0.27722371967654985), 'median': 0.0, 'std': 0.44764297370321154, 'min': 0, 'max': 1}\n",
      "  Earnings_1974: {'mean': np.float64(14142.180170992588), 'median': 15374.37, 'std': 9613.783591409892, 'min': 0.0, 'max': 25862.32}\n",
      "  Earnings_1975: {'mean': np.float64(13756.469864637667), 'median': 14803.285, 'std': 9316.852137891128, 'min': 0.0, 'max': 25243.55}\n",
      "  Earnings_1978: {'mean': np.float64(14959.218905806132), 'median': 16717.52, 'std': 9685.372409042377, 'min': 0.0, 'max': 25564.67}\n",
      "Categorical counts:\n",
      "  Eduacation: {'HighSchool': 5928, 'LessThanHighSchool': 4114, 'Intermediate': 2579, 'graduate': 1317, 'PostGraduate': 902}\n",
      "  Race: {'NotBlack': 13664, 'black': 1176}\n",
      "  Hisp: {'NotHispanic': 14840}\n",
      "  MaritalStatus: {'Married': 10542, 'NotMarried': 4298}\n",
      "\n",
      "Cohort: Hisp=hispanic\n",
      "Numeric stats:\n",
      "  Age: {'mean': np.float64(33.065104166666664), 'median': 32.0, 'std': 10.942155674140842, 'min': 16, 'max': 55}\n",
      "  Nodeg: {'mean': np.float64(0.5355902777777778), 'median': 1.0, 'std': 0.49894832805311096, 'min': 0, 'max': 1}\n",
      "  Earnings_1974: {'mean': np.float64(12401.66382561632), 'median': 12668.615, 'std': 8829.944260384633, 'min': 0.0, 'max': 25862.32}\n",
      "  Earnings_1975: {'mean': np.float64(12289.613540737848), 'median': 12378.29, 'std': 8537.329632556612, 'min': 0.0, 'max': 25243.55}\n",
      "  Earnings_1978: {'mean': np.float64(13396.67788799479), 'median': 13717.74, 'std': 9023.243587678384, 'min': 0.0, 'max': 25564.67}\n",
      "Categorical counts:\n",
      "  Eduacation: {'LessThanHighSchool': 617, 'HighSchool': 324, 'Intermediate': 129, 'graduate': 50, 'PostGraduate': 32}\n",
      "  Race: {'NotBlack': 1152}\n",
      "  Hisp: {'hispanic': 1152}\n",
      "  MaritalStatus: {'Married': 840, 'NotMarried': 312}\n",
      "\n",
      "Cohort: MaritalStatus=Married\n",
      "Numeric stats:\n",
      "  Age: {'mean': np.float64(36.31690388332455), 'median': 35.0, 'std': 9.948023818886703, 'min': 16, 'max': 55}\n",
      "  Nodeg: {'mean': np.float64(0.275698471270427), 'median': 0.0, 'std': 0.4468851866151901, 'min': 0, 'max': 1}\n",
      "  Earnings_1974: {'mean': np.float64(16582.74420601213), 'median': 18677.690000000002, 'std': 8818.606906149133, 'min': 0.0, 'max': 25862.32}\n",
      "  Earnings_1975: {'mean': np.float64(15980.13016400571), 'median': 17982.895, 'std': 8704.06033388304, 'min': 0.0, 'max': 25243.55}\n",
      "  Earnings_1978: {'mean': np.float64(16390.997167013706), 'median': 19664.85, 'std': 9594.652210685375, 'min': 0.0, 'max': 25564.67}\n",
      "Categorical counts:\n",
      "  Eduacation: {'HighSchool': 4683, 'LessThanHighSchool': 3138, 'Intermediate': 1854, 'graduate': 1011, 'PostGraduate': 696}\n",
      "  Race: {'NotBlack': 10653, 'black': 729}\n",
      "  Hisp: {'NotHispanic': 10542, 'hispanic': 840}\n",
      "  MaritalStatus: {'Married': 11382}\n",
      "\n",
      "Cohort: MaritalStatus=NotMarried\n",
      "Numeric stats:\n",
      "  Age: {'mean': np.float64(25.591973969631237), 'median': 22.0, 'std': 9.849678405197048, 'min': 16, 'max': 55}\n",
      "  Nodeg: {'mean': np.float64(0.3455531453362256), 'median': 0.0, 'std': 0.47559986889824146, 'min': 0, 'max': 1}\n",
      "  Earnings_1974: {'mean': np.float64(7681.53490494794), 'median': 4325.0815, 'std': 8325.019159480926, 'min': 0.0, 'max': 25862.32}\n",
      "  Earnings_1975: {'mean': np.float64(7899.741011592191), 'median': 4950.242, 'std': 8038.337295131408, 'min': 0.0, 'max': 25243.55}\n",
      "  Earnings_1978: {'mean': np.float64(11033.720549714317), 'median': 9982.043000000001, 'std': 8669.880628576691, 'min': 0.0, 'max': 25564.67}\n",
      "Categorical counts:\n",
      "  Eduacation: {'LessThanHighSchool': 1593, 'HighSchool': 1569, 'Intermediate': 854, 'graduate': 356, 'PostGraduate': 238}\n",
      "  Race: {'NotBlack': 4163, 'black': 447}\n",
      "  Hisp: {'NotHispanic': 4298, 'hispanic': 312}\n",
      "  MaritalStatus: {'NotMarried': 4610}\n"
     ]
    }
   ],
   "source": [
    "# 1 - Demo of function\n",
    "results = afs.cohortCompare(df, [\"Race\", \"Hisp\", \"MaritalStatus\"])\n",
    "\n",
    "for cohort, metric in results.items():\n",
    "    print(f\"\\nCohort: {cohort}\")\n",
    "    print(\"Numeric stats:\")\n",
    "    for col, stats in metric.statistics[\"numeric_stats\"].items():\n",
    "        print(f\"  {col}: {stats}\")\n",
    "    print(\"Categorical counts:\")\n",
    "    for col, counts in metric.statistics[\"counts\"].items():\n",
    "        print(f\"  {col}: {counts}\")\n"
   ]
  },
  {
   "cell_type": "markdown",
   "id": "4ab21165",
   "metadata": {},
   "source": [
    "<ol>\n",
    "</ol>"
   ]
  },
  {
   "cell_type": "markdown",
   "id": "f48c6369",
   "metadata": {},
   "source": [
    "**Problem 2**: Does this data, at a high level, appear to be representative of the general population of the US in the late 70s? Does it now? Why or why not?\n",
    "    <ul>\n",
    "    <li> This does not need to be a long answer or done in increadable depth. This question will generate some demographic profiles of people in the data - does that appear to be similar to the US population at the time? </li>\n",
    "    <li> Please state how you assessd this. (There isn't one correct answer, the process is more important than the answer) </li>\n",
    "    </ul>"
   ]
  },
  {
   "cell_type": "markdown",
   "id": "5a10b612",
   "metadata": {},
   "source": [
    "#### Solution:\n",
    "Overall, the dataset doesn’t fully match the US population in the late 1970s. Most people in the data are non-Black, and the education, income, and marriage patterns don’t line up with what census records show from that time. If we compare it to today, the differences are even bigger since the US now is more diverse, better educated, and has different income and family trends. I came to this conclusion by looking at the cohort counts, averages, and demographic profiles from the cohortCompare function and comparing them with what we know about the population then and now."
   ]
  },
  {
   "cell_type": "markdown",
   "id": "195005c2",
   "metadata": {},
   "source": [
    "### Part 3\n",
    "\n",
    "**Problem 1**: Create a function in the .py file called effectSizer that takes in a dataframe, a numerical column name, a column name of a categorical value that is binary (two values only), and returns a dictionary of the categorical classes and their corresponding effect sizes on the numerical value."
   ]
  },
  {
   "cell_type": "code",
   "execution_count": 64,
   "id": "9faba7f1",
   "metadata": {},
   "outputs": [
    {
     "name": "stdout",
     "output_type": "stream",
     "text": [
      "Effect sizes for Earnings_1978:\n",
      "\n",
      "Race: 0.32290339567217985\n",
      "Hisp: 0.16693520688184332\n",
      "MaritalStatus: 0.5858811564183686\n"
     ]
    }
   ],
   "source": [
    "# 1. Demo of function\n",
    "print(\"Effect sizes for Earnings_1978:\\n\")\n",
    "\n",
    "race = afs.effectSizer(df, \"Earnings_1978\", \"Race\")\n",
    "hisp = afs.effectSizer(df, \"Earnings_1978\", \"Hisp\")\n",
    "marital = afs.effectSizer(df, \"Earnings_1978\", \"MaritalStatus\")\n",
    "\n",
    "print(\"Race:\", race)\n",
    "print(\"Hisp:\", hisp)\n",
    "print(\"MaritalStatus:\", marital)"
   ]
  },
  {
   "cell_type": "markdown",
   "id": "daa1e477",
   "metadata": {},
   "source": [
    "**Problem 2**: For 1978, which of Race, Hisp, MaritalStatus have the largest effect size. (Use Yes/True/1 for x1)"
   ]
  },
  {
   "cell_type": "code",
   "execution_count": 65,
   "id": "5bb00693",
   "metadata": {},
   "outputs": [
    {
     "name": "stdout",
     "output_type": "stream",
     "text": [
      "\n",
      "Largest effect size is for: MaritalStatus\n"
     ]
    }
   ],
   "source": [
    "# Effect sizes comparison\n",
    "effects = {\"Race\": race, \"Hisp\": hisp, \"MaritalStatus\": marital}\n",
    "largest = max(effects, key=effects.get)\n",
    "print(\"\\nLargest effect size is for:\", largest)"
   ]
  }
 ],
 "metadata": {
  "kernelspec": {
   "display_name": "base",
   "language": "python",
   "name": "python3"
  },
  "language_info": {
   "codemirror_mode": {
    "name": "ipython",
    "version": 3
   },
   "file_extension": ".py",
   "mimetype": "text/x-python",
   "name": "python",
   "nbconvert_exporter": "python",
   "pygments_lexer": "ipython3",
   "version": "3.13.5"
  }
 },
 "nbformat": 4,
 "nbformat_minor": 5
}
